{
 "cells": [
  {
   "cell_type": "markdown",
   "metadata": {},
   "source": [
    "# Question 1.1"
   ]
  },
  {
   "cell_type": "code",
   "execution_count": 3,
   "metadata": {},
   "outputs": [
    {
     "name": "stdout",
     "output_type": "stream",
     "text": [
      "2\n",
      "3\n",
      "4\n",
      "2.9047375096555625\n"
     ]
    }
   ],
   "source": [
    "class getting_sides:\n",
    "    def __init__(self,a,b,c):\n",
    "        self.a = a\n",
    "        self.b = b\n",
    "        self.c = c\n",
    "        \n",
    "class formula(getting_sides):\n",
    "    def area(self):\n",
    "        s = (a+b+c)/2\n",
    "        ans = (s*(s-a)*(s-b)*(s-c)) ** 0.5\n",
    "        print(ans)\n",
    "\n",
    "a = int(input())\n",
    "b = int(input())\n",
    "c = int(input())\n",
    "obj1 = formula(a,b,c)\n",
    "obj1.area()\n"
   ]
  },
  {
   "cell_type": "markdown",
   "metadata": {},
   "source": [
    "# Question 1.2"
   ]
  },
  {
   "cell_type": "code",
   "execution_count": 2,
   "metadata": {},
   "outputs": [
    {
     "name": "stdout",
     "output_type": "stream",
     "text": [
      "tushar kumar arvind geeta saksham ram raj dharvesh\n",
      "interger \n",
      "4\n",
      "['tushar', 'kumar', 'arvind', 'geeta', 'saksham', 'dharvesh']\n"
     ]
    }
   ],
   "source": [
    "def filter_long_words(l,n):\n",
    "    new =[]\n",
    "    for i in l:\n",
    "        if(len(i)>n):\n",
    "            new.append(i)\n",
    "    return(new)\n",
    "a = input()\n",
    "n = int(input(\"interger \\n\"))\n",
    "l = a.split()\n",
    "print(filter_long_words(l,n))\n",
    "        \n",
    "            "
   ]
  },
  {
   "cell_type": "markdown",
   "metadata": {},
   "source": [
    "# Question 2.1"
   ]
  },
  {
   "cell_type": "code",
   "execution_count": 2,
   "metadata": {},
   "outputs": [
    {
     "name": "stdout",
     "output_type": "stream",
     "text": [
      "tushar kumar arvind geeta saksham ram raj dharvesh\n",
      "[6, 5, 6, 5, 7, 3, 3, 8]\n"
     ]
    }
   ],
   "source": [
    "def converter(l):\n",
    "    new=[]\n",
    "    for i in l:\n",
    "        new.append(len(i))\n",
    "    return(new)\n",
    "\n",
    "a= input()\n",
    "l =a.split()\n",
    "print(converter(l))\n",
    "\n",
    "        "
   ]
  },
  {
   "cell_type": "markdown",
   "metadata": {},
   "source": [
    "# Question 2.2"
   ]
  },
  {
   "cell_type": "code",
   "execution_count": 25,
   "metadata": {},
   "outputs": [
    {
     "name": "stdout",
     "output_type": "stream",
     "text": [
      "enter the character \n",
      "u\n",
      "True\n"
     ]
    }
   ],
   "source": [
    "def checker(l,n):\n",
    "    if n in l:\n",
    "        return(True)\n",
    "    else:\n",
    "        return(False)\n",
    "n = input(\"enter the character \\n\")\n",
    "l = ['A','E','I','O','U','a','e','i','o','u']\n",
    "if(len(n)>1):\n",
    "    print(\"Enter a single character \\n\")\n",
    "else:\n",
    "    print(checker(l,n))"
   ]
  }
 ],
 "metadata": {
  "kernelspec": {
   "display_name": "Python 3",
   "language": "python",
   "name": "python3"
  },
  "language_info": {
   "codemirror_mode": {
    "name": "ipython",
    "version": 3
   },
   "file_extension": ".py",
   "mimetype": "text/x-python",
   "name": "python",
   "nbconvert_exporter": "python",
   "pygments_lexer": "ipython3",
   "version": "3.7.6"
  }
 },
 "nbformat": 4,
 "nbformat_minor": 4
}
