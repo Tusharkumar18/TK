{
 "cells": [
  {
   "cell_type": "markdown",
   "metadata": {},
   "source": [
    "# Question 1"
   ]
  },
  {
   "cell_type": "code",
   "execution_count": 1,
   "metadata": {},
   "outputs": [
    {
     "name": "stdout",
     "output_type": "stream",
     "text": [
      "5\n",
      "0\n",
      "ERROE:  division by zero\n",
      "enter another numbers \n",
      "4\n",
      "2\n",
      "2.0\n",
      "finally executed \n",
      "\n"
     ]
    }
   ],
   "source": [
    "while(True):\n",
    "    try:\n",
    "        i= int(input())\n",
    "        j= int(input())\n",
    "        a = i/j\n",
    "    except Exception as e :\n",
    "        print('ERROE: ',e)\n",
    "        print(\"enter another numbers \")\n",
    "        continue\n",
    "    else:\n",
    "        print(a)\n",
    "        print(\"finally executed \\n\")\n",
    "        break "
   ]
  },
  {
   "cell_type": "markdown",
   "metadata": {},
   "source": [
    "# Question 2\n"
   ]
  },
  {
   "cell_type": "code",
   "execution_count": 10,
   "metadata": {},
   "outputs": [
    {
     "name": "stdout",
     "output_type": "stream",
     "text": [
      "Americans play Baseball.\n",
      "Americans play Cricket.\n",
      "Americans watch Baseball.\n",
      "Americans watch Cricket.\n",
      "Indians play Baseball.\n",
      "Indians play Cricket.\n",
      "Indians watch Baseball.\n",
      "Indians watch Cricket.\n"
     ]
    }
   ],
   "source": [
    "subjects = [\"Americans\", \"Indians\"]\n",
    "verb = [\"play\",\"watch\"]\n",
    "objects = ['Baseball',\"Cricket\"]\n",
    "s = ''\n",
    "new = [i+' '+j+' '+k+'.' for i in subjects for j in verb for k in objects]\n",
    "for i in new:\n",
    "    print(i)"
   ]
  }
 ],
 "metadata": {
  "kernelspec": {
   "display_name": "Python 3",
   "language": "python",
   "name": "python3"
  },
  "language_info": {
   "codemirror_mode": {
    "name": "ipython",
    "version": 3
   },
   "file_extension": ".py",
   "mimetype": "text/x-python",
   "name": "python",
   "nbconvert_exporter": "python",
   "pygments_lexer": "ipython3",
   "version": "3.7.6"
  }
 },
 "nbformat": 4,
 "nbformat_minor": 4
}
